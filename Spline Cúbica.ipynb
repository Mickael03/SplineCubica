{
 "cells": [
  {
   "cell_type": "markdown",
   "id": "a557e72d",
   "metadata": {},
   "source": [
    "# Interpolação por Spline Cúbica"
   ]
  },
  {
   "cell_type": "markdown",
   "id": "f02bfb2c",
   "metadata": {},
   "source": [
    "A interpolação por Spline cúbico corresponde a um método de interpolação, consiste na construção de uma conjunto de pontos continuo por meio da existência de um conjunto de pontos discreto, utilizando polinômios de terceiro grau."
   ]
  },
  {
   "cell_type": "markdown",
   "id": "4db959da",
   "metadata": {},
   "source": [
    "# Definição\n",
    "\n",
    "a função spline $S(x)$ consiste de uma função por partes, onde assumindo a existência de $n$ pontos na forma $(x_{i},y_{i})$ sendo $i=0,1,2,\\ldots,n-1$ e ordenados de forma crescente $x_{0}\\leq x_{1} \\leq \\ldots \\leq x_{i}\\leq\\ldots\\leq x_{i}$.  \n",
    "Onde a função que modela o subintervalo $[x_{i},x_{i+1}]$ é da forma $s_{i}(x)=a_{i}+b_{i}(x-x_{i})+c_{i}(x-x_{i})^{2}+d_{i}(x-x_{i})^{3}$, sendo constantes $a_{i},b_{i},c_{i}$ e $d_{i}$ tal que $d_{i}\\neq0$."
   ]
  },
  {
   "cell_type": "markdown",
   "id": "4ee5bd9d",
   "metadata": {},
   "source": [
    "$S(x)=\\begin{cases}\n",
    "s_{0} = a_{0}+b_{0}(x-x_{0})+c_{0}(x-x_{i})^{2}+d_{0}(x-x_{i})^{3} & x_{0}\\leq x \\leq x_{1} \\\\\n",
    "\\ldots & \\ldots \\\\\n",
    "s_{i} = a_{i}+b_{i}(x-x_{0})+c_{i}(x-x_{i})^{2}+d_{i}(x-x_{i})^{3} & x_{i-1}\\leq x \\leq x_{i} \\\\\n",
    "\\ldots & \\ldots \\\\\n",
    "s_{n-1} = a_{n-1}+b_{n-1}(x-x_{0})+c_{n-1}(x-x_{i})^{2}+d_{n-1}(x-x_{i})^{3} & x_{n-2}\\leq x \\leq x_{n-1}\n",
    "\\end{cases}$"
   ]
  },
  {
   "cell_type": "markdown",
   "id": "8397afea",
   "metadata": {},
   "source": [
    "# Observação"
   ]
  },
  {
   "cell_type": "markdown",
   "id": "83e75026",
   "metadata": {},
   "source": [
    "Destamos que poderiamos recorrer diretamente a biblioteca [scipy](https://scipy.org/) por contém o método `scipy.interpolate.CubicSpline` que opera diretamente com esse método de interpolação. Recorre o scipy para modelagem desse tipo de interpolação se mostra muito mais eficiente em diverso níveis, diverso modelos de spline e velocidade no processamento, esse notebook trata somente de uma dos métodos de interpolação por Spline Cúbica de condição natural."
   ]
  },
  {
   "cell_type": "markdown",
   "id": "bifAACAhRKGn",
   "metadata": {
    "id": "bifAACAhRKGn"
   },
   "source": [
    "# Bibliotecas"
   ]
  },
  {
   "cell_type": "code",
   "execution_count": 92,
   "id": "SKEqvsBmWsyo",
   "metadata": {
    "executionInfo": {
     "elapsed": 287,
     "status": "ok",
     "timestamp": 1649355296531,
     "user": {
      "displayName": "Mickael J. Silva",
      "userId": "07835997182671155316"
     },
     "user_tz": 180
    },
    "id": "SKEqvsBmWsyo"
   },
   "outputs": [],
   "source": [
    "#Bibliotecas utilizadas\n",
    "import matplotlib.pyplot as plt\n",
    "import numpy as np"
   ]
  },
  {
   "cell_type": "code",
   "execution_count": 93,
   "id": "4s_-VcaF2CFQ",
   "metadata": {
    "colab": {
     "base_uri": "https://localhost:8080/"
    },
    "executionInfo": {
     "elapsed": 17,
     "status": "ok",
     "timestamp": 1649355296835,
     "user": {
      "displayName": "Mickael J. Silva",
      "userId": "07835997182671155316"
     },
     "user_tz": 180
    },
    "id": "4s_-VcaF2CFQ",
    "outputId": "9b3ed2ac-2ab8-47e5-a714-5099073c786e"
   },
   "outputs": [
    {
     "name": "stdout",
     "output_type": "stream",
     "text": [
      "Versão do Matplotlib: 3.5.1\n",
      "Versão do numpy: 1.19.5\n"
     ]
    }
   ],
   "source": [
    "import matplotlib\n",
    "print(f'Versão do Matplotlib: {matplotlib.__version__}')\n",
    "print(f'Versão do numpy: {np.__version__}')"
   ]
  },
  {
   "cell_type": "markdown",
   "id": "HXyKQLkdROyg",
   "metadata": {
    "id": "HXyKQLkdROyg"
   },
   "source": [
    "# Funções"
   ]
  },
  {
   "cell_type": "markdown",
   "id": "HiIpQE2m401p",
   "metadata": {
    "id": "HiIpQE2m401p"
   },
   "source": [
    "## Coeficientes da Matriz de solução"
   ]
  },
  {
   "cell_type": "markdown",
   "id": "6a8982b7",
   "metadata": {},
   "source": [
    "Função que constroi a matriz dos coeficientes, os coeficientes são as constantes associadas a cada função $s_{i}$"
   ]
  },
  {
   "cell_type": "markdown",
   "id": "ccGmcMsFPIQ-",
   "metadata": {
    "id": "ccGmcMsFPIQ-"
   },
   "source": [
    "* Condição - 1\n",
    "> $S_{0}(x_{0}) = y_{0}$  \n",
    "$S_{i}(x_{i}) = y_{i}$\n",
    "\n",
    "* Condição - 2\n",
    "> $S_{0}(x_{i}) = y_{i}$  \n",
    "$S_{i}(x_{i+1}) = y_{i+1}$\n",
    "\n",
    "* Condição - 3\n",
    "> $S_{0}^{'}(x_{i}) = S_{i}^{'}(x_{i})$\n",
    "\n",
    "* Condição - 4\n",
    "> $S_{0}^{''}(x_{i}) = S_{i}^{''}(x_{i})$\n",
    "\n",
    "* Condição - 5 (Condição Natural)\n",
    "> $S_{0}^{''}(x_{0}) = 0$  \n",
    "$S_{n-1}^{''}(x_{n}) = 0$"
   ]
  },
  {
   "cell_type": "code",
   "execution_count": 94,
   "id": "0XtYfpFgXRNh",
   "metadata": {
    "executionInfo": {
     "elapsed": 452,
     "status": "ok",
     "timestamp": 1649355297274,
     "user": {
      "displayName": "Mickael J. Silva",
      "userId": "07835997182671155316"
     },
     "user_tz": 180
    },
    "id": "0XtYfpFgXRNh"
   },
   "outputs": [],
   "source": [
    "#Coeficientes da matriz\n",
    "def coeficientes(x = []):\n",
    "    #Número de equações\n",
    "    n_equacao = len(x) - 1\n",
    "    \n",
    "    #Matriz dos coeficientes\n",
    "    coeficientes = []\n",
    "    \n",
    "    #Condição I\n",
    "    i = 1\n",
    "    j = 0\n",
    "    while i <= n_equacao:\n",
    "        k = [0 for i in range(4*n_equacao)]\n",
    "        k[j] = 1\n",
    "        \n",
    "        coeficientes.append(k)\n",
    "        \n",
    "        j += 4\n",
    "        i += 1\n",
    "    \n",
    "    #Condição II\n",
    "    i = 0\n",
    "    j = 0\n",
    "    while i < n_equacao:\n",
    "        k = [0 for i in range(4*n_equacao)]\n",
    "        k[j]  = 1\n",
    "        k[j+1] = x[i+1] - x[i]\n",
    "        k[j+2] = (x[i+1] - x[i])**2\n",
    "        k[j+3] = (x[i+1] - x[i])**3\n",
    "        coeficientes.append(k)\n",
    "        j += 4\n",
    "        i += 1\n",
    "    \n",
    "    #Condição III\n",
    "    i = 0\n",
    "    j = 0\n",
    "    while i < n_equacao - 1:\n",
    "        k = [0 for i in range(4*n_equacao)]\n",
    "        k[j+1] = 1\n",
    "        k[j+2] = 2*(x[i+1] - x[i])\n",
    "        k[j+3] = 3*(x[i+1] - x[i])**2\n",
    "        k[j+5] = -1\n",
    "        coeficientes.append(k)\n",
    "        j += 4\n",
    "        i += 1\n",
    "    \n",
    "    #Condição IV\n",
    "    i = 0\n",
    "    j = 0\n",
    "    while i < n_equacao-1:\n",
    "        k = [0 for i in range(4*n_equacao)]\n",
    "        k[j+2] = 2\n",
    "        k[j+3] = 6*(x[i+1] - x[i])\n",
    "        k[j+6] = -2\n",
    "        \n",
    "        if i < n_equacao -1:\n",
    "            coeficientes.append(k)\n",
    "        \n",
    "        j += 4\n",
    "        i += 1\n",
    "    \n",
    "    #Condição V\n",
    "    i = 0\n",
    "    j = 0\n",
    "    while i < n_equacao:\n",
    "        k = [0 for i in range(4*n_equacao)]\n",
    "        if i == 0:\n",
    "            k[j+2] = 2\n",
    "            k[j+3] = 0\n",
    "            coeficientes.append(k)\n",
    "        if i == n_equacao - 1:\n",
    "            k[j+2] = 2\n",
    "            k[j+3] = 6*(x[i+1] - x[i])\n",
    "            coeficientes.append(k)\n",
    "        j += 4\n",
    "        i += 1\n",
    "    \n",
    "    return coeficientes"
   ]
  },
  {
   "cell_type": "code",
   "execution_count": 95,
   "id": "bI3oBb4rUE8R",
   "metadata": {
    "colab": {
     "base_uri": "https://localhost:8080/"
    },
    "executionInfo": {
     "elapsed": 56,
     "status": "ok",
     "timestamp": 1649355297276,
     "user": {
      "displayName": "Mickael J. Silva",
      "userId": "07835997182671155316"
     },
     "user_tz": 180
    },
    "id": "bI3oBb4rUE8R",
    "outputId": "00953464-810d-4bc2-fb90-e1ce171ae1d1"
   },
   "outputs": [
    {
     "data": {
      "text/plain": [
       "[[1, 0, 0, 0, 0, 0, 0, 0],\n",
       " [0, 0, 0, 0, 1, 0, 0, 0],\n",
       " [1, 1, 1, 1, 0, 0, 0, 0],\n",
       " [0, 0, 0, 0, 1, 1, 1, 1],\n",
       " [0, 1, 2, 3, 0, -1, 0, 0],\n",
       " [0, 0, 2, 6, 0, 0, -2, 0],\n",
       " [0, 0, 2, 0, 0, 0, 0, 0],\n",
       " [0, 0, 0, 0, 0, 0, 2, 6]]"
      ]
     },
     "execution_count": 95,
     "metadata": {},
     "output_type": "execute_result"
    }
   ],
   "source": [
    "coeficientes(x=[1,2,3])"
   ]
  },
  {
   "cell_type": "markdown",
   "id": "2Y_hbZg24n1I",
   "metadata": {
    "id": "2Y_hbZg24n1I"
   },
   "source": [
    "## Matriz com resultados dos coeficientes"
   ]
  },
  {
   "cell_type": "markdown",
   "id": "5aff84a2",
   "metadata": {},
   "source": [
    "Função que constroi a matriz dos termos independentes"
   ]
  },
  {
   "cell_type": "code",
   "execution_count": 96,
   "id": "LRVCNtKgVcVF",
   "metadata": {
    "executionInfo": {
     "elapsed": 53,
     "status": "ok",
     "timestamp": 1649355297278,
     "user": {
      "displayName": "Mickael J. Silva",
      "userId": "07835997182671155316"
     },
     "user_tz": 180
    },
    "id": "LRVCNtKgVcVF"
   },
   "outputs": [],
   "source": [
    "def r(y = []):\n",
    "    #Número de equações\n",
    "    n_equacoes = len(y) - 1\n",
    "    \n",
    "    #Lista com resultados não nulos\n",
    "    z = [y[i] for i in range(len(y)-1)] + [y[i] for i in range(len(y)) if i >= 1]\n",
    "    \n",
    "    #complementado a lista para solução do sistema matricial\n",
    "    for i in range(4*n_equacoes - len(z)):\n",
    "        z.append(0)\n",
    "    \n",
    "    return z"
   ]
  },
  {
   "cell_type": "code",
   "execution_count": 97,
   "id": "wNHiFL1GvthJ",
   "metadata": {
    "colab": {
     "base_uri": "https://localhost:8080/"
    },
    "executionInfo": {
     "elapsed": 53,
     "status": "ok",
     "timestamp": 1649355297281,
     "user": {
      "displayName": "Mickael J. Silva",
      "userId": "07835997182671155316"
     },
     "user_tz": 180
    },
    "id": "wNHiFL1GvthJ",
    "outputId": "a8e332d9-e81a-4564-95f3-5f7216814228"
   },
   "outputs": [
    {
     "data": {
      "text/plain": [
       "[1, 2, 2, 3, 0, 0, 0, 0]"
      ]
     },
     "execution_count": 97,
     "metadata": {},
     "output_type": "execute_result"
    }
   ],
   "source": [
    "r([1,2,3])"
   ]
  },
  {
   "cell_type": "markdown",
   "id": "v_09Q0dGhWzi",
   "metadata": {
    "id": "v_09Q0dGhWzi"
   },
   "source": [
    "# Solução dos sistema"
   ]
  },
  {
   "cell_type": "markdown",
   "id": "4ab3d034",
   "metadata": {},
   "source": [
    "A solução do sistema matricial utilizaremos a biblioteca [numpy](https://numpy.org/) por meio da função [numpy.linalg.solve](https://numpy.org/doc/stable/reference/generated/numpy.linalg.solve.html#numpy.linalg.solve) para soluçaõ do sistema matricial"
   ]
  },
  {
   "cell_type": "code",
   "execution_count": 98,
   "id": "vMaj43S6vxfw",
   "metadata": {
    "executionInfo": {
     "elapsed": 47,
     "status": "ok",
     "timestamp": 1649355297287,
     "user": {
      "displayName": "Mickael J. Silva",
      "userId": "07835997182671155316"
     },
     "user_tz": 180
    },
    "id": "vMaj43S6vxfw"
   },
   "outputs": [],
   "source": [
    "#Unido tudo todas etapas anteriores em uma unica função\n",
    "def solucao(x = [], y = []):\n",
    "    \n",
    "    #Matriz dos coeficientes\n",
    "    A = coeficientes(x)\n",
    "    \n",
    "    #Matriz dos termos independentes\n",
    "    b = r(y)\n",
    "    \n",
    "    #Solução pelo numpy\n",
    "    solve = np.linalg.solve(A,b)\n",
    "    l2 = [i for i in solve]\n",
    "    \n",
    "    return l2"
   ]
  },
  {
   "cell_type": "code",
   "execution_count": 99,
   "id": "5o6AFducweuB",
   "metadata": {
    "colab": {
     "base_uri": "https://localhost:8080/"
    },
    "executionInfo": {
     "elapsed": 48,
     "status": "ok",
     "timestamp": 1649355297289,
     "user": {
      "displayName": "Mickael J. Silva",
      "userId": "07835997182671155316"
     },
     "user_tz": 180
    },
    "id": "5o6AFducweuB",
    "outputId": "119cbe8d-71a3-4e9e-dbab-5f0d429b843d"
   },
   "outputs": [
    {
     "data": {
      "text/plain": [
       "[2.0, 0.75, 0.0, 0.25, 3.0, 1.5, 0.75, -0.25]"
      ]
     },
     "execution_count": 99,
     "metadata": {},
     "output_type": "execute_result"
    }
   ],
   "source": [
    "solucao(x = [1, 2, 3], y = [2, 3, 5])"
   ]
  },
  {
   "cell_type": "markdown",
   "id": "RqEg--ojK8dw",
   "metadata": {
    "id": "RqEg--ojK8dw"
   },
   "source": [
    "# Função Spline Cúbica Geral"
   ]
  },
  {
   "cell_type": "code",
   "execution_count": 100,
   "id": "rKjQtcUSMXtW",
   "metadata": {
    "executionInfo": {
     "elapsed": 90,
     "status": "ok",
     "timestamp": 1649355298314,
     "user": {
      "displayName": "Mickael J. Silva",
      "userId": "07835997182671155316"
     },
     "user_tz": 180
    },
    "id": "rKjQtcUSMXtW"
   },
   "outputs": [],
   "source": [
    "#Criando o implemento da função para calculo de uma valor\n",
    "def Spline_Cubica(x = [], y = [], **kwargs):\n",
    "    \n",
    "    #Coeficientes do spline cubica\n",
    "    coeficientes = solucao(x,y)\n",
    "    \n",
    "    #Mostra os coeficientes\n",
    "    Coef = kwargs.get('coeficientes')\n",
    "    if Coef == True:\n",
    "        return coeficientes\n",
    "    \n",
    "    #Determinação do valor de um spline \n",
    "    valor = kwargs.get('valor')\n",
    "    \n",
    "    if valor != None:\n",
    "        #Determinação dos coeficientes a serem utilizados\n",
    "        count = 0\n",
    "        while count < len(x):\n",
    "            if count == len(x) - 2:\n",
    "                break\n",
    "            if valor <= x[count]:\n",
    "                break\n",
    "            if x[count] < valor <= x[count+1]:\n",
    "                break\n",
    "            count += 1\n",
    "        \n",
    "        #resultados\n",
    "        s0 = coeficientes[4*count + 0]\n",
    "        s1 = coeficientes[4*count + 1]*(valor - x[count])\n",
    "        s2 = coeficientes[4*count + 2]*(valor - x[count])**2\n",
    "        s3 = coeficientes[4*count + 3]*(valor - x[count])**3\n",
    "        \n",
    "        #Valor do Spline para valor\n",
    "        s = s0 + s1 + s2 + s3 \n",
    "        \n",
    "        return s"
   ]
  },
  {
   "cell_type": "markdown",
   "id": "XBxjbIqkRXgm",
   "metadata": {
    "id": "XBxjbIqkRXgm"
   },
   "source": [
    "# Pontos arbitrários\n",
    "\n",
    "Consideramos os seguintes pontos $(0,0), (1,5), (2,2.5)$ e $(3,9)$."
   ]
  },
  {
   "cell_type": "code",
   "execution_count": 101,
   "id": "t21JgeXePYf3",
   "metadata": {
    "colab": {
     "base_uri": "https://localhost:8080/"
    },
    "executionInfo": {
     "elapsed": 398,
     "status": "ok",
     "timestamp": 1649355995891,
     "user": {
      "displayName": "Mickael J. Silva",
      "userId": "07835997182671155316"
     },
     "user_tz": 180
    },
    "id": "t21JgeXePYf3",
    "outputId": "1e4581f5-5cbe-4e25-acb4-bd46f91150c1"
   },
   "outputs": [],
   "source": [
    "#Sem retorno\n",
    "Spline_Cubica(x = [0,1,2,3],\n",
    "              y = [0,5,2.5,9],\n",
    "              coeficientes = False,\n",
    "              valor = None)"
   ]
  },
  {
   "cell_type": "code",
   "execution_count": 102,
   "id": "b9b23304",
   "metadata": {},
   "outputs": [
    {
     "data": {
      "text/plain": [
       "[0.0,\n",
       " 7.6,\n",
       " -4.440892098500626e-16,\n",
       " -2.6,\n",
       " 5.000000000000001,\n",
       " -0.20000000000000104,\n",
       " -7.800000000000001,\n",
       " 5.500000000000001,\n",
       " 2.5,\n",
       " 0.6999999999999993,\n",
       " 8.700000000000003,\n",
       " -2.9000000000000012]"
      ]
     },
     "execution_count": 102,
     "metadata": {},
     "output_type": "execute_result"
    }
   ],
   "source": [
    "#Retorna os coeficientes\n",
    "Spline_Cubica(x = [0,1,2,3],\n",
    "              y = [0,5,2.5,9],\n",
    "              coeficientes = True,\n",
    "              valor = None)"
   ]
  },
  {
   "cell_type": "code",
   "execution_count": 103,
   "id": "XKqk89QZPPCj",
   "metadata": {
    "colab": {
     "base_uri": "https://localhost:8080/"
    },
    "executionInfo": {
     "elapsed": 310,
     "status": "ok",
     "timestamp": 1649356042913,
     "user": {
      "displayName": "Mickael J. Silva",
      "userId": "07835997182671155316"
     },
     "user_tz": 180
    },
    "id": "XKqk89QZPPCj",
    "outputId": "ac31f80c-65ee-45fd-f4fd-e86ebb204dd9"
   },
   "outputs": [
    {
     "data": {
      "text/plain": [
       "2.9648000000000008"
      ]
     },
     "execution_count": 103,
     "metadata": {},
     "output_type": "execute_result"
    }
   ],
   "source": [
    "#Retorna o valor estimado para x = 2.2\n",
    "Spline_Cubica(x = [0,1,2,3],\n",
    "              y = [0,5,2.5,9],\n",
    "              coeficientes = False,\n",
    "              valor = 2.2)"
   ]
  },
  {
   "cell_type": "code",
   "execution_count": 104,
   "id": "b7a24a5e",
   "metadata": {},
   "outputs": [
    {
     "data": {
      "image/png": "[encoded data removed]",
      "text/plain": [
       "<Figure size 432x288 with 1 Axes>"
      ]
     },
     "metadata": {
      "needs_background": "light"
     },
     "output_type": "display_data"
    }
   ],
   "source": [
    "#Gráfico dos pontos considerados e a função interpoladora\n",
    "\n",
    "#Valores de x e y\n",
    "x = [0,1,2,3]\n",
    "y = [0,5,2.5,9]\n",
    "\n",
    "#Plot dos pontos considerandos para interpolação\n",
    "plt.plot(x, y, 'ro', label = 'Dados')\n",
    "\n",
    "#Plot da função Spline\n",
    "t = np.arange(x[0],x[len(x)-1],0.01) #arange numpy\n",
    "k = [i for i in t]\n",
    "z = [Spline_Cubica(x, y, valor = i) for i in t]\n",
    "\n",
    "plt.plot(k,z, label='Spline Cúbica')\n",
    "\n",
    "#Caracteristicas dos gráfico\n",
    "plt.title('Curva interpolada')\n",
    "plt.grid(True)\n",
    "\n",
    "plt.legend()\n",
    "plt.show()"
   ]
  },
  {
   "cell_type": "markdown",
   "id": "238f7bd3",
   "metadata": {},
   "source": [
    "# Caso de comparação\n",
    "\n",
    "Considerando alguns pontos da função $f(x) = x^{3}+2x^{2}-25x-50 = (x-5)(x+2)(x+5)$ no intervalo $[-5,6]$ construiremos o spline e compararemos com os resultado da função $f(x)$."
   ]
  },
  {
   "cell_type": "code",
   "execution_count": 105,
   "id": "4d6a5e09",
   "metadata": {},
   "outputs": [
    {
     "data": {
      "image/png": "[encoded data removed]",
      "text/plain": [
       "<Figure size 432x288 with 1 Axes>"
      ]
     },
     "metadata": {
      "needs_background": "light"
     },
     "output_type": "display_data"
    }
   ],
   "source": [
    "#Função\n",
    "x = [i for i in np.arange(-5,6,0.1)]\n",
    "f = [(i+2)*(i-5)*(i+5) for i in x]\n",
    "\n",
    "#Pontos para interpolação\n",
    "k = [x[0],x[55],x[109]]\n",
    "y = [f[0],f[55],f[109]]\n",
    "\n",
    "#Curva de interpolação\n",
    "z = [Spline_Cubica(k, y, valor = i) for i in np.arange(-5,6,0.1)]\n",
    "\n",
    "#Função definida\n",
    "plt.plot(x,f,label = 'Função')\n",
    "\n",
    "#Pontos escolhidos\n",
    "plt.plot(k,y,'ro', label='Pontos escolhidos')\n",
    "\n",
    "#Curva interpolada\n",
    "plt.plot(x, z, label='Interpolação')\n",
    "\n",
    "plt.title('Comparação f(x) vs Spline')\n",
    "plt.xticks([i for i in range(-5,7)])\n",
    "plt.grid(True)\n",
    "\n",
    "plt.legend()\n",
    "plt.show()"
   ]
  },
  {
   "cell_type": "markdown",
   "id": "01b99f21",
   "metadata": {},
   "source": [
    "Considerando uma quantidade maior de pontos para modelagem do Spline."
   ]
  },
  {
   "cell_type": "code",
   "execution_count": 106,
   "id": "09eda18a",
   "metadata": {},
   "outputs": [
    {
     "data": {
      "image/png": "[encoded data removed]",
      "text/plain": [
       "<Figure size 432x288 with 1 Axes>"
      ]
     },
     "metadata": {
      "needs_background": "light"
     },
     "output_type": "display_data"
    }
   ],
   "source": [
    "#Função\n",
    "x = [i for i in np.arange(-5,6,0.1)]\n",
    "f = [(i+2)*(i-5)*(i+5) for i in x]\n",
    "plt.plot(x,f,label = 'Função')\n",
    "\n",
    "#Curva de 3 pontos\n",
    "k1 = [x[0],x[55],x[109]]\n",
    "y1 = [f[0],f[55],f[109]]\n",
    "z1 = [Spline_Cubica(k1, y1, valor = i) for i in np.arange(-5,6,0.1)]\n",
    "plt.plot(x, z1, label='Três Pontos')\n",
    "\n",
    "#Curva de 4 pontos\n",
    "k2 = [x[0],x[28],x[55],x[109]]\n",
    "y2 = [f[0],f[28],f[55],f[109]]\n",
    "z2 = [Spline_Cubica(k2, y2, valor = i) for i in np.arange(-5,6,0.1)]\n",
    "plt.plot(x, z2, label = 'Quatro pontos')\n",
    "\n",
    "#Curva de 5 pontos\n",
    "k3 = [x[0],x[28],x[55],x[82],x[109]]\n",
    "y3 = [f[0],f[28],f[55],f[82],f[109]]\n",
    "z3 = [Spline_Cubica(k3, y3, valor = i) for i in np.arange(-5,6,0.1)]\n",
    "plt.plot(x, z3, label = 'Cinco pontos')\n",
    "\n",
    "#Pontos escolhidos\n",
    "plt.plot(k3,y3,'ro', label='Pontos escolhidos')\n",
    "\n",
    "plt.title('Comparação de Splines')\n",
    "plt.xticks([i for i in range(-5,7)])\n",
    "plt.grid(True)\n",
    "\n",
    "plt.legend()\n",
    "plt.show()"
   ]
  },
  {
   "cell_type": "markdown",
   "id": "1ec84362",
   "metadata": {},
   "source": [
    "Erro de interpolação absoluto de acordo com os três modelos de splines"
   ]
  },
  {
   "cell_type": "code",
   "execution_count": 107,
   "id": "d71bf0b4",
   "metadata": {},
   "outputs": [
    {
     "data": {
      "image/png": "[encoded data removed]",
      "text/plain": [
       "<Figure size 432x288 with 1 Axes>"
      ]
     },
     "metadata": {
      "needs_background": "light"
     },
     "output_type": "display_data"
    }
   ],
   "source": [
    "#Erro de interpolação - 03 pontos\n",
    "erro1 = [f[i] - z[i] for i in range(len(f))]\n",
    "plt.plot(x, erro1, label = 'Três pontos')\n",
    "\n",
    "#Erro de interpolação - 04 pontos\n",
    "k2 = [x[0],x[28],x[55],x[109]]\n",
    "y2 = [f[0],f[28],f[55],f[109]]\n",
    "z2 = [Spline_Cubica(k2, y2, valor = i) for i in np.arange(-5,6,0.1)]\n",
    "erro2 = [f[i] - z2[i] for i in range(len(f))]\n",
    "plt.plot(x, erro2, label = 'Quatro pontos')\n",
    "\n",
    "#Erro de interpolação - 05 pontos\n",
    "k3 = [x[0],x[28],x[55],x[82],x[109]]\n",
    "y3 = [f[0],f[28],f[55],f[82],f[109]]\n",
    "z3 = [Spline_Cubica(k3, y3, valor = i) for i in np.arange(-5,6,0.1)]\n",
    "erro3 = [f[i] - z3[i] for i in range(len(f))]\n",
    "plt.plot(x, erro3, label = 'Cinco pontos')\n",
    "\n",
    "#Características dos gráfico\n",
    "plt.title('Erro absoluto de interpolação')\n",
    "plt.xlabel('Intervalo')\n",
    "plt.ylabel('Erro')\n",
    "plt.xticks([i for i in range(-5,7)])\n",
    "plt.grid(True)\n",
    "\n",
    "plt.legend()\n",
    "plt.show()"
   ]
  }
 ],
 "metadata": {
  "colab": {
   "collapsed_sections": [
    "bifAACAhRKGn",
    "HiIpQE2m401p",
    "v_09Q0dGhWzi",
    "Yg3lWevQlWmr",
    "0Y57QolzKlFZ",
    "RqEg--ojK8dw",
    "oM01XIe7Ag3Q",
    "ICPf0AAg_x99"
   ],
   "name": "Spline Cúbica.ipynb",
   "provenance": []
  },
  "kernelspec": {
   "display_name": "Python 3 (ipykernel)",
   "language": "python",
   "name": "python3"
  },
  "language_info": {
   "codemirror_mode": {
    "name": "ipython",
    "version": 3
   },
   "file_extension": ".py",
   "mimetype": "text/x-python",
   "name": "python",
   "nbconvert_exporter": "python",
   "pygments_lexer": "ipython3",
   "version": "3.8.3"
  }
 },
 "nbformat": 4,
 "nbformat_minor": 5
}
